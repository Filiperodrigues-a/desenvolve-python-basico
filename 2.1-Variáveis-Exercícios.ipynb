{
  "nbformat": 4,
  "nbformat_minor": 0,
  "metadata": {
    "colab": {
      "provenance": [],
      "authorship_tag": "ABX9TyOwIhLsF+S0PKfrMLwpjFXi",
      "include_colab_link": true
    },
    "kernelspec": {
      "name": "python3",
      "display_name": "Python 3"
    },
    "language_info": {
      "name": "python"
    }
  },
  "cells": [
    {
      "cell_type": "markdown",
      "metadata": {
        "id": "view-in-github",
        "colab_type": "text"
      },
      "source": [
        "<a href=\"https://colab.research.google.com/github/Filiperodrigues-a/desenvolve-python-basico/blob/main/2.1-Vari%C3%A1veis-Exerc%C3%ADcios.ipynb\" target=\"_parent\"><img src=\"https://colab.research.google.com/assets/colab-badge.svg\" alt=\"Open In Colab\"/></a>"
      ]
    },
    {
      "cell_type": "markdown",
      "source": [
        "Selecione todos os itens a seguir que contém nomes válidos de variáveis. Lembre-se que alguns nomes com estrutura válida são palavras reservadas da linguagem e portanto não podem nomear variáveis.\n",
        "\n",
        "a) nome_completo\n",
        "b) quantidade@produtos\n",
        "c) idade\n",
        "d) soma idades\n",
        "e) MediaNotas\n",
        "f) _tipo\n",
        "g) 2total\n",
        "h) lambda"
      ],
      "metadata": {
        "id": "TellSdnz6oad"
      }
    },
    {
      "cell_type": "code",
      "source": [
        "# Preencha o print com as alternativas corretas\n",
        "# separadas por espaços em branco.\n",
        "# Ex: print(\"a b c\")\n",
        "print(\"a c e f \")"
      ],
      "metadata": {
        "colab": {
          "base_uri": "https://localhost:8080/"
        },
        "id": "9d0xdJ7t67rp",
        "outputId": "a9e05c06-f754-4e80-ead1-4eb195b9cf3e"
      },
      "execution_count": 1,
      "outputs": [
        {
          "output_type": "stream",
          "name": "stdout",
          "text": [
            "a c e f \n"
          ]
        }
      ]
    },
    {
      "cell_type": "markdown",
      "source": [
        "Q2.\n",
        "Dados os scripts a seguir, faça:\n",
        "\n",
        "Para os scripts corretos escreva o resultado impresso ao final da execução\n",
        "Para os incorretos descreva todos os erros identificados apontando a linha onde cada erro acontece."
      ],
      "metadata": {
        "id": "COobxHEl7Ozt"
      }
    },
    {
      "cell_type": "markdown",
      "source": [
        "# Script 1\n",
        "x = 10\n",
        "y = x + 2\n",
        "print(y - 5)"
      ],
      "metadata": {
        "id": "bi5Ff7J27bL1"
      }
    },
    {
      "cell_type": "code",
      "source": [
        "# preencha o print com sua resposta\n",
        "x = 10\n",
        "y = x + 2\n",
        "print(y - 5)\n",
        "print(\"A resposta é \",(y-5))"
      ],
      "metadata": {
        "colab": {
          "base_uri": "https://localhost:8080/"
        },
        "id": "IgWzentH7eOS",
        "outputId": "a2bae87d-2ea0-4d42-c5d0-69e78e9b8362"
      },
      "execution_count": 4,
      "outputs": [
        {
          "output_type": "stream",
          "name": "stdout",
          "text": [
            "7\n",
            "A resposta é  7\n"
          ]
        }
      ]
    },
    {
      "cell_type": "markdown",
      "source": [
        "# Script 2\n",
        "soma = n1 + n2\n",
        "print(soma)"
      ],
      "metadata": {
        "id": "CM00WyeY8H_R"
      }
    },
    {
      "cell_type": "code",
      "source": [
        "# preencha o print com sua resposta\n",
        "print(\"O erro está na primeira linha do código pois as variáveis n1 e n2 não foram declaradas anteriormente \")"
      ],
      "metadata": {
        "colab": {
          "base_uri": "https://localhost:8080/"
        },
        "id": "rRgbZ27P8L75",
        "outputId": "961ef905-2ce6-4a56-e37c-4dbdaf093b36"
      },
      "execution_count": 5,
      "outputs": [
        {
          "output_type": "stream",
          "name": "stdout",
          "text": [
            "O erro está na primeira linha do código pois as variáveis n1 e n2 não foram declaradas anteriormente \n"
          ]
        }
      ]
    },
    {
      "cell_type": "markdown",
      "source": [
        "# Script 3\n",
        "a = 10\n",
        "a = a + 1\n",
        "print(a)"
      ],
      "metadata": {
        "id": "1mWaSdJ28oNs"
      }
    },
    {
      "cell_type": "code",
      "source": [
        "# preencha o print com sua resposta\n",
        "a = 10\n",
        "a = a + 1\n",
        "print(\"A resposta é: \", a)"
      ],
      "metadata": {
        "colab": {
          "base_uri": "https://localhost:8080/"
        },
        "id": "O6jjNFB08qb0",
        "outputId": "12b78559-d9e2-4b5b-8f35-135f0e80ea3e"
      },
      "execution_count": 7,
      "outputs": [
        {
          "output_type": "stream",
          "name": "stdout",
          "text": [
            "A resposta é:  11\n"
          ]
        }
      ]
    },
    {
      "cell_type": "markdown",
      "source": [
        "# Script 4\n",
        "saldo da conta = 1500\n",
        "0.1 = juros\n",
        "print(saldo da conta * juros)"
      ],
      "metadata": {
        "id": "ItGSNZNw9BD5"
      }
    },
    {
      "cell_type": "code",
      "source": [
        "# preencha o print com sua resposta\n",
        "print(\"O erro está na segunda linha pois as variáveis tem que ser declaradas a esquerda e não a direita \")"
      ],
      "metadata": {
        "colab": {
          "base_uri": "https://localhost:8080/"
        },
        "id": "Nq60zlv29Dhs",
        "outputId": "b3ee435f-6493-499c-ec71-e34123ddb7ca"
      },
      "execution_count": 8,
      "outputs": [
        {
          "output_type": "stream",
          "name": "stdout",
          "text": [
            "O erro está na segunda linha pois as variáveis tem que ser declaradas a esquerda e não a direita \n"
          ]
        }
      ]
    },
    {
      "cell_type": "markdown",
      "source": [
        "\n",
        "Q3.\n",
        "Declare três variáveis, num1, num2 e num3, com valores inteiros numéricos de sua escolha. Calcule e imprima a média desses três números. Utilize a fórmula: (num1 + num2 + num3) / 3."
      ],
      "metadata": {
        "id": "IQILwGvl9Up_"
      }
    },
    {
      "cell_type": "code",
      "source": [
        "num1 = 3\n",
        "num2 = 4\n",
        "num3 = 11\n",
        "media = (num1 + num2 + num3) / 3\n",
        "print(\"A média é\",media)"
      ],
      "metadata": {
        "colab": {
          "base_uri": "https://localhost:8080/"
        },
        "id": "IPlS6X489Y4p",
        "outputId": "b0a3602d-a337-4359-af65-a681040da42d"
      },
      "execution_count": 13,
      "outputs": [
        {
          "output_type": "stream",
          "name": "stdout",
          "text": [
            "A média é 6.0\n"
          ]
        }
      ]
    },
    {
      "cell_type": "markdown",
      "source": [
        "\n",
        "Q4.\n",
        "Escreva um script python que:\n",
        "\n",
        "Armazene em uma variável uma velocidade de 90 km/h\n",
        "Calcule e armazene o equivalente em m/s\n",
        "Divida o valor original por 3.6 para obter o resultado em m/s. Em python a sintaxe da divisão e atribuição é c = a / b\n",
        "Imprima na tela a velocidade o resultado m/s"
      ],
      "metadata": {
        "id": "Gtz3HsdH95xD"
      }
    },
    {
      "cell_type": "code",
      "source": [
        "velocidade_kmh = 90\n",
        "velocidade_ms = (velocidadekmh)/3,6\n",
        "print(f\"A velocidade de 90km/h equivale a{velocidade_ms}m/s\")"
      ],
      "metadata": {
        "colab": {
          "base_uri": "https://localhost:8080/"
        },
        "id": "aWRYX3t39798",
        "outputId": "16647b64-2a9e-4e44-d8ed-17b93d41add5"
      },
      "execution_count": 24,
      "outputs": [
        {
          "output_type": "stream",
          "name": "stdout",
          "text": [
            "A velocidade de 90km/h equivale a(30.0, 6)m/s\n"
          ]
        }
      ]
    },
    {
      "cell_type": "markdown",
      "source": [
        "Q5.\n",
        "Escreva um script python que:\n",
        "\n",
        "Armazene o seu nome em uma variável\n",
        "Dica: para armazenar textos em variáveis basta colocar a palavra desejada entre aspas, ex: \"Camila\", à direita do operador de atribuição.\n",
        "Imprima o texto \"Meu nome é:\"\n",
        "Imprima a variável com seu nome"
      ],
      "metadata": {
        "id": "S3dsp9cnAjNH"
      }
    },
    {
      "cell_type": "code",
      "source": [
        "nome = \"Filipe\"\n",
        "print (\"Meu nome é:\")\n",
        "print (nome)\n"
      ],
      "metadata": {
        "colab": {
          "base_uri": "https://localhost:8080/"
        },
        "id": "9AIiwSOnAj42",
        "outputId": "b28284eb-1568-4328-e553-daf89982482d"
      },
      "execution_count": 25,
      "outputs": [
        {
          "output_type": "stream",
          "name": "stdout",
          "text": [
            "Meu nome é:\n",
            "Filipe\n"
          ]
        }
      ]
    }
  ]
}