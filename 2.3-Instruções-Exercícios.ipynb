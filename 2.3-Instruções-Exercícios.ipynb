{
  "nbformat": 4,
  "nbformat_minor": 0,
  "metadata": {
    "colab": {
      "provenance": [],
      "authorship_tag": "ABX9TyP4DduxRbOc6tbyJ4OqVL0w",
      "include_colab_link": true
    },
    "kernelspec": {
      "name": "python3",
      "display_name": "Python 3"
    },
    "language_info": {
      "name": "python"
    }
  },
  "cells": [
    {
      "cell_type": "markdown",
      "metadata": {
        "id": "view-in-github",
        "colab_type": "text"
      },
      "source": [
        "<a href=\"https://colab.research.google.com/github/Filiperodrigues-a/desenvolve-python-basico/blob/main/2.3-Instru%C3%A7%C3%B5es-Exerc%C3%ADcios.ipynb\" target=\"_parent\"><img src=\"https://colab.research.google.com/assets/colab-badge.svg\" alt=\"Open In Colab\"/></a>"
      ]
    },
    {
      "cell_type": "markdown",
      "source": [
        "Q1\n",
        "Faça um programa que armazene o valor de 20 reais de salário por hora de um trabalhador, e o número de 40 horas trabalhadas na semana. Com essas informações, calcule e imprima:\n",
        "\n",
        "Salário semanal bruto\n",
        "Valor descontado por semana INSS (10% do bruto)\n",
        "Valor descontado por semana pelo sindicato (5% do bruto)\n",
        "Salário semanal líquido (Bruto - Descontos)"
      ],
      "metadata": {
        "id": "Xb4GqDauH3bz"
      }
    },
    {
      "cell_type": "code",
      "source": [
        "valo_hora_trabalhada = 20\n",
        "hora_semanal = 40\n",
        "salario_semanal = valo_hora_trabalhada*hora_semanal\n",
        "valor_inss_semana = salario_semanal*0.1\n",
        "valor_sindicato = salario_semanal*0.05\n",
        "salario_liquido = salario_semanal-(valor_inss_semana+valor_sindicato)\n",
        "print(\"Salário semanal bruto R$\",salario_semanal)\n",
        "print(\"Valor descontado por semana INSS R$\",valor_inss_semana)\n",
        "print(\"Valor descontado por semana pelo sindicato R$\",valor_sindicato)\n",
        "print(\"Salário semanal líquido R$\",salario_liquido)"
      ],
      "metadata": {
        "colab": {
          "base_uri": "https://localhost:8080/"
        },
        "id": "TWpWTlsaIECx",
        "outputId": "18fb6948-5787-4d5b-c3c0-a72a3592aba8"
      },
      "execution_count": 3,
      "outputs": [
        {
          "output_type": "stream",
          "name": "stdout",
          "text": [
            "Salário semanal bruto R$ 800\n",
            "Valor descontado por semana INSS R$ 80.0\n",
            "Valor descontado por semana pelo sindicato R$ 40.0\n",
            "Salário semanal líquido R$ 680.0\n"
          ]
        }
      ]
    },
    {
      "cell_type": "markdown",
      "source": [
        "Q2\n",
        "Altere o programa anterior para a partir dos valores de horas trabalhadas por semana e salário por hora, calcular em somente duas instruções:\n",
        "\n",
        "Salário semanal bruto\n",
        "Salário semanal líquido com todos os descontos. Para a segunda instrução, realize todos os cálculos aritméticos em uma expressão composta."
      ],
      "metadata": {
        "id": "iyPg59HIKUMT"
      }
    },
    {
      "cell_type": "code",
      "source": [
        "valo_hora_trabalhada = 20\n",
        "hora_semanal = 40\n",
        "salario_semanal = valo_hora_trabalhada*hora_semanal\n",
        "salario_liquido = salario_semanal-(salario_semanal*0.1+salario_semanal*0.05)\n",
        "print(\"Salário semanal bruto R$\",salario_semanal)\n",
        "print(\"Salário semanal líquido R$\",salario_liquido)"
      ],
      "metadata": {
        "colab": {
          "base_uri": "https://localhost:8080/"
        },
        "id": "6wVf_r2IKWXv",
        "outputId": "35fc4aa8-3373-444e-d37e-b30deddda2d9"
      },
      "execution_count": 4,
      "outputs": [
        {
          "output_type": "stream",
          "name": "stdout",
          "text": [
            "Salário semanal bruto R$ 800\n",
            "Salário semanal líquido R$ 680.0\n"
          ]
        }
      ]
    },
    {
      "cell_type": "markdown",
      "source": [
        "Q3\n",
        "Você está desenvolvendo um software de conversão de moeda e precisa calcular o valor equivalente em yuan chinês a partir de uma quantia em real. A taxa de câmbio é de 0.69 BRL (real) para 1 CNY (yuan). Escreva um programa que define em uma variável uma quantia em reais (BRL) e calcula o valor equivalente em yuan (CNY). Imprima o resultado."
      ],
      "metadata": {
        "id": "JJcMA2myLWoa"
      }
    },
    {
      "cell_type": "code",
      "source": [
        "valor_brl = 100\n",
        "yuan_cny = valor_brl/0.69\n",
        "print(f\"O valor de 100.00(BRL) equivale a {yuan_cny:.2f}(CNY)\")"
      ],
      "metadata": {
        "colab": {
          "base_uri": "https://localhost:8080/"
        },
        "id": "gYlzoVLRLYYV",
        "outputId": "5d0457a0-3ed2-4133-b3e4-d13b8210b646"
      },
      "execution_count": 6,
      "outputs": [
        {
          "output_type": "stream",
          "name": "stdout",
          "text": [
            "O valor de 100.00(BRL) equivale a 144.93(CNY)\n"
          ]
        }
      ]
    },
    {
      "cell_type": "markdown",
      "source": [
        "Q4\n",
        "Você é um treinador de corrida e deseja calcular a velocidade média que um atleta precisa manter para completar a Maratona Internacional de São Silvestre, que tem uma distância total de 42.195 km. A fórmula para calcular a velocidade média (\n",
        ") é dada por\n",
        "\n",
        " . Escreva um programa em Python para calcular a velocidade média necessária para completar a maratona em 3 horas.\n",
        "\n",
        "Calcule e imprima o resultado em metros/segundo, ou seja, converta a distância de quilômetros para metros (\n",
        "\n",
        ") e a velocidade de horas para segundos\n",
        "\n",
        "."
      ],
      "metadata": {
        "id": "Wn7PdjkRMvWf"
      }
    },
    {
      "cell_type": "code",
      "source": [
        "distancia = 42.195\n",
        "tempo = 3\n",
        "#em km/h\n",
        "velocidade_media = distancia/tempo\n",
        "# resposta em m/s\n",
        "velocidade_media = velocidade_media/3.6\n",
        "print(f\"A velocidade média necessária para completar essa maratona em 3h é de {velocidade_media:.3f}m/s\")\n"
      ],
      "metadata": {
        "colab": {
          "base_uri": "https://localhost:8080/"
        },
        "id": "nbPwhwPHMwNp",
        "outputId": "ef808e9c-cfaf-467b-c9dc-2a2721e8094c"
      },
      "execution_count": 9,
      "outputs": [
        {
          "output_type": "stream",
          "name": "stdout",
          "text": [
            "A velocidade média necessária para completar essa maratona em 3h é de 3.907m/s\n"
          ]
        }
      ]
    }
  ]
}