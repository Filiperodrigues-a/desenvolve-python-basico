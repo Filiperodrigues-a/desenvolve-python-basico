{
 "cells": [
  {
   "cell_type": "markdown",
   "id": "cbdff5a5",
   "metadata": {},
   "source": [
    "# Módulo 5 - Funções\n",
    "\n",
    "## Aulas 5.2 - Funções Customizadas e 5.4 Funções ```lambda```"
   ]
  },
  {
   "cell_type": "markdown",
   "id": "28a3fee2",
   "metadata": {},
   "source": [
    "### Q1.\n",
    "\n",
    "- Sabendo que o código a seguir calcula o fatorial de n, escreva uma função chamada ```fatorial()``` que recebe um inteiro ```n``` como parâmetro e retorna o resultado do fatorial de ```n```. \n",
    "- No programa principal, peça ao usuário o valor de ```n```, chame a sua função e imprima o retorno.\n",
    "\n",
    "```python\n",
    "fat = 1\n",
    "for i in range(1, n+1):\n",
    "    fat *= i \n",
    "```"
   ]
  },
  {
   "cell_type": "code",
   "execution_count": 13,
   "id": "d126b3a5",
   "metadata": {},
   "outputs": [],
   "source": [
    "## Crie aqui a função fatorial()\n",
    "## lembre-se de executar a célula para que \n",
    "## a função passe a existir e possa ser chamada\n",
    "def fatorial(soma):\n",
    "    fat = 1\n",
    "    for i in range(1, soma+1):\n",
    "        fat *= i \n",
    "    return fat\n",
    "    \n"
   ]
  },
  {
   "cell_type": "code",
   "execution_count": 17,
   "id": "6e4fe64e",
   "metadata": {},
   "outputs": [
    {
     "name": "stdin",
     "output_type": "stream",
     "text": [
      "Informe o valor de n:  5\n"
     ]
    },
    {
     "name": "stdout",
     "output_type": "stream",
     "text": [
      "5! é 120\n"
     ]
    }
   ],
   "source": [
    "## Escreva aqui o programa principal e execute a célula\n",
    "n = int(input(\"Informe o valor de n: \"))\n",
    "valor_fatorial = fatorial(n)\n",
    "print(f\"{n}! é {valor_fatorial}\")"
   ]
  },
  {
   "cell_type": "markdown",
   "id": "c0a1f599",
   "metadata": {},
   "source": [
    "### Q2.\n",
    "\n",
    "- Escreva uma função em Python chamada ```soma_quadrados``` que recebe dois números como parâmetros e retorna a soma dos seus quadrados. \n",
    "- No programa principal solicite ao usuário que insira dois números e utilize a função para exibir a soma dos quadrados."
   ]
  },
  {
   "cell_type": "code",
   "execution_count": 19,
   "id": "6dbddaad",
   "metadata": {},
   "outputs": [],
   "source": [
    "## Crie aqui a função soma_quadrados()\n",
    "\n",
    "def soma_quadrados(a, b):\n",
    "    return a**2 + b**2\n",
    "    "
   ]
  },
  {
   "cell_type": "code",
   "execution_count": 26,
   "id": "9175a7da",
   "metadata": {},
   "outputs": [
    {
     "name": "stdin",
     "output_type": "stream",
     "text": [
      "Digite o primeiro número:  2\n",
      "Digite o segundo número:  3\n"
     ]
    },
    {
     "name": "stdout",
     "output_type": "stream",
     "text": [
      "A soma dos quadrados de 2.0 e 3.0 é: 13.0\n"
     ]
    }
   ],
   "source": [
    "## Escreva aqui o programa principal e execute a célula\n",
    "def main():\n",
    "    n1 = float(input(\"Digite o primeiro número: \"))\n",
    "    n2 = float(input(\"Digite o segundo número: \"))\n",
    "    resposta = soma_quadrados(n1, n2)\n",
    "    print(f\"A soma dos quadrados de {n1} e {n2} é: {resposta}\")\n",
    "\n",
    "if __name__ == \"__main__\":\n",
    "    main()\n",
    "\n",
    "\n"
   ]
  },
  {
   "cell_type": "markdown",
   "id": "6ba34ce0",
   "metadata": {},
   "source": [
    "### Q3.\n",
    "\n",
    "- Crie uma função em Python chamada ```soma_digitos``` que recebe um número inteiro como parâmetro e retorna a soma dos seus dígitos. Por exemplo, para o número 123, a função deve retornar 6, $(1 + 2 + 3)$.\n",
    "    - O desafio aqui é separar os dígitos de um número inteiro usando operações aritméticas <br> <br>\n",
    "\n",
    "- No programa principal solicite ao usuário que insira um número e utilize a função ```soma_digitos``` para calcular e exibir a soma dos seus dígitos."
   ]
  },
  {
   "cell_type": "code",
   "execution_count": 9,
   "id": "34838ebf",
   "metadata": {},
   "outputs": [],
   "source": [
    "## Crie aqui a função soma_digitos()\n",
    "soma_digitos = 0\n",
    "\n",
    "def soma_digitos(a):\n",
    "    soma = 0\n",
    "    while a > 0:\n",
    "        soma += a % 10\n",
    "        a //= 10\n",
    "    return soma"
   ]
  },
  {
   "cell_type": "code",
   "execution_count": 10,
   "id": "27c35b21",
   "metadata": {},
   "outputs": [
    {
     "name": "stdin",
     "output_type": "stream",
     "text": [
      "Digite um número inteiro:  123\n"
     ]
    },
    {
     "name": "stdout",
     "output_type": "stream",
     "text": [
      "A soma dos dígitos de 123 é 6\n"
     ]
    }
   ],
   "source": [
    "## Escreva aqui o programa principal e execute a célula\n",
    "a = int(input(\"Digite um número inteiro: \"))\n",
    "resultado = soma_digitos(a)\n",
    "print(f'A soma dos dígitos de {a} é {resultado}')"
   ]
  },
  {
   "cell_type": "markdown",
   "id": "c318b159",
   "metadata": {},
   "source": [
    "### Q4.\n",
    "\n",
    "- Crie a função ```inverteValor()``` que recebe um inteiro de qualquer tamanho e retorna esse valor invertido usando apenas operações aritméticas\n",
    "- Crie a função ```verificaInverso()``` que recebe o valor original e o valor invertido e retorna verdadeiro se ambos forem igualmente par ou igualmente ímpar. Retorne falso caso contrário.\n",
    "- No programa principal, peça um valor do usuário e imprima o retorno de ambas as funções.\n"
   ]
  },
  {
   "cell_type": "code",
   "execution_count": 5,
   "id": "e4e47d1d",
   "metadata": {},
   "outputs": [],
   "source": [
    "## Crie aqui as funções inverteValor() e verificaInverso()\n",
    "def inverteValor(valor):\n",
    "    valor_invertido = 0\n",
    "    while valor != 0:\n",
    "        digito = valor % 10\n",
    "        valor_invertido = valor_invertido * 10 + digito\n",
    "        valor //= 10\n",
    "    \n",
    "    return valor_invertido\n",
    "\n",
    "def verificaInverso(original, invertido):\n",
    "    if (original % 2 == 0 and invertido % 2 == 0) or (original % 2 != 0 and invertido % 2 != 0):\n",
    "        return True\n",
    "    else:\n",
    "        return False\n",
    "\n",
    "\n"
   ]
  },
  {
   "cell_type": "code",
   "execution_count": 7,
   "id": "a9514e56",
   "metadata": {},
   "outputs": [
    {
     "name": "stdin",
     "output_type": "stream",
     "text": [
      "Digite um valor inteiro:  432\n"
     ]
    },
    {
     "ename": "NameError",
     "evalue": "name 'e_inverso' is not defined",
     "output_type": "error",
     "traceback": [
      "\u001b[1;31m---------------------------------------------------------------------------\u001b[0m",
      "\u001b[1;31mNameError\u001b[0m                                 Traceback (most recent call last)",
      "Cell \u001b[1;32mIn[7], line 5\u001b[0m\n\u001b[0;32m      3\u001b[0m numero \u001b[38;5;241m=\u001b[39m \u001b[38;5;28mint\u001b[39m(\u001b[38;5;28minput\u001b[39m(\u001b[38;5;124m\"\u001b[39m\u001b[38;5;124mDigite um valor inteiro: \u001b[39m\u001b[38;5;124m\"\u001b[39m))\n\u001b[0;32m      4\u001b[0m numero_invertido \u001b[38;5;241m=\u001b[39m inverteValor(numero)\n\u001b[1;32m----> 5\u001b[0m resultado_verificacao \u001b[38;5;241m=\u001b[39m verificaInverso(numero, numero_invertido)\n\u001b[0;32m      6\u001b[0m \u001b[38;5;28mprint\u001b[39m(\u001b[38;5;124mf\u001b[39m\u001b[38;5;124m\"\u001b[39m\u001b[38;5;124mO valor invertido é: \u001b[39m\u001b[38;5;132;01m{\u001b[39;00mnumero_invertido\u001b[38;5;132;01m}\u001b[39;00m\u001b[38;5;124m\"\u001b[39m)\n\u001b[0;32m      7\u001b[0m \u001b[38;5;28mprint\u001b[39m(\u001b[38;5;124mf\u001b[39m\u001b[38;5;124m\"\u001b[39m\u001b[38;5;124mAmbos são igualmente par ou igualmente ímpar? \u001b[39m\u001b[38;5;132;01m{\u001b[39;00mresultado_verificacao\u001b[38;5;132;01m}\u001b[39;00m\u001b[38;5;124m\"\u001b[39m)\n",
      "Cell \u001b[1;32mIn[3], line 12\u001b[0m, in \u001b[0;36mverificaInverso\u001b[1;34m(valor, valor_invertido)\u001b[0m\n\u001b[0;32m     10\u001b[0m \u001b[38;5;28;01mdef\u001b[39;00m \u001b[38;5;21mverificaInverso\u001b[39m(valor, valor_invertido):\n\u001b[1;32m---> 12\u001b[0m     \u001b[38;5;28;01mreturn\u001b[39;00m e_inverso\n",
      "\u001b[1;31mNameError\u001b[0m: name 'e_inverso' is not defined"
     ]
    }
   ],
   "source": [
    "## Escreva aqui o programa principal e execute a célula\n",
    "if __name__ == \"__main__\":\n",
    "    numero = int(input(\"Digite um valor inteiro: \"))\n",
    "    numero_invertido = inverteValor(numero)\n",
    "    resultado_verificacao = verificaInverso(numero, numero_invertido)\n",
    "    print(f\"O valor invertido é: {numero_invertido}\")\n",
    "    print(f\"Ambos são igualmente par ou igualmente ímpar? {resultado_verificacao}\")"
   ]
  },
  {
   "cell_type": "markdown",
   "id": "329be966",
   "metadata": {},
   "source": [
    "### Q5.\n",
    "\n",
    "Você está desenvolvendo um programa para auxiliar em cálculos de geometria básica. Crie as seguintes funções:\n",
    "- A função ```calcula_perimetro_triangulo()``` que recebe três inteiros correspondentes aos lados de um triângulo e retorna o perímetro do triângulo, ou seja, a soma dos seus lados.\n",
    "- A função ```calcula_perimetro_circulo()``` que recebe um inteiro referente ao raio do círculo e retorna o perímetro do círculo, dado por $2 \\pi r$. Use a constante $\\pi$ da biblioteca ```math```.\n",
    "- A função ```calcula_perimetro_retangulo()``` que possui um parâmetro obrigatório ```lado1``` e um opcional ```lado2```, ambos inteiros. Se o valor opcional não for fornecido, significa que se trata de um quadrado. Sua função deve calcular e retornar o perímetro do retângulo, ou seja, a soma de seus lados. \n",
    "    - Para o quadrado, é dado por $4 \\times lado1$\n",
    "    - Para o retângulo é dado por $2 \\times lado1 + 2 \\times lado2$\n",
    "    \n",
    "- No programa principal apresente um menu com as opções disponíveis do seu sistema e uma quarta opção ```Sair```. Solicite ao usuário a opção desejada, solicite as entradas correspondentes à opção escolhida, invoque a respective função e apresente o seu retorno. Seu programa deve retornar ao menu até que o usuário escolha a opção ```Sair```\n",
    "\n",
    "Exemplo de interação:\n",
    "```\n",
    "1 - Calcular perímetro triângulo\n",
    "2 - Calcular perímetro círculo\n",
    "3 - Calcular perímetro retângulo\n",
    "4 - Sair\n",
    "\n",
    "Opção: 1\n",
    "Digite os três lados do triângulo:\n",
    "3\n",
    "4\n",
    "5\n",
    "O perímetro é: 12\n",
    "\n",
    "1 - Calcular perímetro triângulo\n",
    "2 - Calcular perímetro círculo\n",
    "3 - Calcular perímetro retângulo\n",
    "4 - Sair\n",
    "\n",
    "Opção: 3\n",
    "Informe os dois lados do retângulo. Se for um quadrado, digite 0 para o segundo valor:\n",
    "5\n",
    "0\n",
    "O perímetro é: 20\n",
    "\n",
    "1 - Calcular perímetro triângulo\n",
    "2 - Calcular perímetro círculo\n",
    "3 - Calcular perímetro retângulo\n",
    "4 - Sair\n",
    "\n",
    "Opção: 4\n",
    "```"
   ]
  },
  {
   "cell_type": "code",
   "execution_count": 42,
   "id": "0793d328",
   "metadata": {},
   "outputs": [],
   "source": [
    "## Crie aqui as funções \n",
    "import math\n",
    "def calcula_perimetro_triangulo(lado1, lado2, lado3):\n",
    "    return lado1 + lado2 + lado3\n",
    "\n",
    "def calcula_perimetro_circulo(raio):\n",
    "    return 2 * math.pi * raio\n",
    "\n",
    "def calcula_perimetro_retangulo(lado1, lado2=None):\n",
    "    if lado2 is None:\n",
    "        return 4 * lado1\n",
    "    else:\n",
    "        return (2 * lado1) + (2 * lado2)\n",
    "        \n",
    "\n"
   ]
  },
  {
   "cell_type": "code",
   "execution_count": null,
   "id": "36269c71",
   "metadata": {},
   "outputs": [
    {
     "name": "stdout",
     "output_type": "stream",
     "text": [
      "Menu de Cálculos de Geometria:\n",
      "1. Calcular perímetro do triângulo\n",
      "2. Calcular perímetro do círculo\n",
      "3. Calcular perímetro do retângulo (ou quadrado)\n",
      "4. Sair\n"
     ]
    },
    {
     "name": "stdin",
     "output_type": "stream",
     "text": [
      "Escolha uma opção (1/2/3/4):  2\n",
      "Informe o valor do raio: 3\n"
     ]
    },
    {
     "name": "stdout",
     "output_type": "stream",
     "text": [
      "O perímetro do círculo é: 18.85\n",
      "Menu de Cálculos de Geometria:\n",
      "1. Calcular perímetro do triângulo\n",
      "2. Calcular perímetro do círculo\n",
      "3. Calcular perímetro do retângulo (ou quadrado)\n",
      "4. Sair\n"
     ]
    },
    {
     "name": "stdin",
     "output_type": "stream",
     "text": [
      "Escolha uma opção (1/2/3/4):  1\n",
      "Digite o primeiro lado do triângulo:  2\n",
      "Digite o segundo lado do triângulo:  3\n",
      "Digite o terceiro lado do triângulo:  4\n"
     ]
    },
    {
     "name": "stdout",
     "output_type": "stream",
     "text": [
      "O perímetro do triângulo é: 9\n",
      "Menu de Cálculos de Geometria:\n",
      "1. Calcular perímetro do triângulo\n",
      "2. Calcular perímetro do círculo\n",
      "3. Calcular perímetro do retângulo (ou quadrado)\n",
      "4. Sair\n"
     ]
    }
   ],
   "source": [
    "## Escreva aqui o programa principal \n",
    "def menu():\n",
    "    while True:\n",
    "        print(\"Menu de Cálculos de Geometria:\")\n",
    "        print(\"1. Calcular perímetro do triângulo\")\n",
    "        print(\"2. Calcular perímetro do círculo\")\n",
    "        print(\"3. Calcular perímetro do retângulo (ou quadrado)\")\n",
    "        print(\"4. Sair\")\n",
    "        opcao = int(input(\"Escolha uma opção (1/2/3/4): \"))\n",
    "        if opcao == 1:\n",
    "            lado1 = int(input(\"Digite o primeiro lado do triângulo: \"))\n",
    "            lado2 = int(input(\"Digite o segundo lado do triângulo: \"))\n",
    "            lado3 = int(input(\"Digite o terceiro lado do triângulo: \"))\n",
    "            perimetro = calcula_perimetro_triangulo(lado1, lado2, lado3)\n",
    "            print(f\"O perímetro do triângulo é: {perimetro}\")\n",
    "        elif opcao == 2:\n",
    "            raio = int(input(\"Informe o valor do raio:\"))\n",
    "            perimetro = calcula_perimetro_circulo(raio)\n",
    "            print(f\"O perímetro do círculo é: {perimetro:.2f}\")\n",
    "        elif opcao == 3:\n",
    "            lado1 = int(input(\"Digite o primeiro lado: \"))\n",
    "            lado2_input = input(\"Digite o segundo lado (ou pressione Enter para quadrado): \")\n",
    "            if lado2 =='':\n",
    "                perimetro = calcula_perimetro_retangulo(lado1)\n",
    "            else:\n",
    "                perimetro = calcula_perimetro_retangulo(lado1, lado2)\n",
    "            print(f\"O perímetro do retângulo (ou quadrado) é: {perimetro}\")\n",
    "        elif opcao == 4:\n",
    "            print(\"Encerrando do programa...\")\n",
    "            break\n",
    "        else:\n",
    "            print(\"Opção Inválida\")\n",
    "\n",
    "menu()\n",
    "\n",
    "            \n",
    "\n",
    "        "
   ]
  },
  {
   "cell_type": "markdown",
   "id": "3016bcc7",
   "metadata": {},
   "source": [
    "## Funções ```lambda```"
   ]
  },
  {
   "cell_type": "markdown",
   "id": "f9cdb8dd",
   "metadata": {},
   "source": [
    "### Q6.\n",
    "\n",
    "Crie uma função lambda para verificar se um número é par ou ímpar. Em seguida, solicite ao usuário um número indefinidos de valores (até que o usuário digite 0). Para cada valor de entrada, informe se é par ou ímpar.\n",
    "\n",
    "Exemplo de interação:\n",
    "```\n",
    "Digite os valores que deseja verificar a paridade (digite 0 para finalizar a entrada de dados):\n",
    "3\n",
    "ímpar\n",
    "8\n",
    "par\n",
    "12\n",
    "par\n",
    "5\n",
    "ímpar\n",
    "7ímpar\n",
    "```"
   ]
  },
  {
   "cell_type": "code",
   "execution_count": 38,
   "id": "e3c31a78",
   "metadata": {},
   "outputs": [
    {
     "name": "stdin",
     "output_type": "stream",
     "text": [
      "Informe um número para saber se ele é par ou impar e digite 0 para encerrar: 4\n"
     ]
    },
    {
     "name": "stdout",
     "output_type": "stream",
     "text": [
      "O número 4 é Par\n"
     ]
    },
    {
     "name": "stdin",
     "output_type": "stream",
     "text": [
      "Informe um número para saber se ele é par ou impar e digite 0 para encerrar: 3\n"
     ]
    },
    {
     "name": "stdout",
     "output_type": "stream",
     "text": [
      "O número 3 é Impar\n"
     ]
    },
    {
     "name": "stdin",
     "output_type": "stream",
     "text": [
      "Informe um número para saber se ele é par ou impar e digite 0 para encerrar: 0\n"
     ]
    },
    {
     "name": "stdout",
     "output_type": "stream",
     "text": [
      "fim\n"
     ]
    }
   ],
   "source": [
    "verifica_funcao = lambda x: 'Par' if x % 2 == 0 else 'Impar'\n",
    "\n",
    "while True:\n",
    "    numero = int(input(\"Informe um número para saber se ele é par ou impar e digite 0 para encerrar:\"))\n",
    "    if numero == 0:\n",
    "        print(\"fim\")\n",
    "        break\n",
    "    else:\n",
    "        print(f\"O número {numero} é {verifica_funcao(numero)}\")"
   ]
  },
  {
   "cell_type": "markdown",
   "id": "5a87474d",
   "metadata": {},
   "source": [
    "### Q7.\n",
    "\n",
    "Escreva um programa que pergunte ao usuário qual operação ele deseja: maior ou menor.\n",
    "Em seguida leia uma quantidade indefinida de valores do usuário, até que o usuário digite o valor zero.\n",
    "Apresente ao final o maior ou menor dos valores digitados de acordo com a escolha do usuário.\n",
    "\n",
    "**Sua solução deve incluir pelo menos uma função ```lambda```** \n",
    "\n",
    "Exemplo de interação:\n",
    "```\n",
    "Opções: (1) maior ou (2) menor?\n",
    "Opção: 1\n",
    "\n",
    "Digite os valores de entrada. Digite 0 para finalizar a entrada de valores.\n",
    "4\n",
    "12\n",
    "15\n",
    "1\n",
    "0\n",
    "\n",
    "O maior valor é: 15\n",
    "```"
   ]
  },
  {
   "cell_type": "code",
   "execution_count": 39,
   "id": "ee3f68ca",
   "metadata": {},
   "outputs": [
    {
     "name": "stdin",
     "output_type": "stream",
     "text": [
      "irforme se você deseja saber o maior valor (opção 1) ou o menor (opção 2)) 1\n",
      " 3\n",
      " 4\n",
      " 5\n",
      " 2\n",
      " 1\n",
      " 0\n"
     ]
    },
    {
     "name": "stdout",
     "output_type": "stream",
     "text": [
      "5\n"
     ]
    }
   ],
   "source": [
    "## Escreva aqui o programa principal \n",
    "opcao = int(input(\"irforme se você deseja saber o maior valor (opção 1) ou o menor (opção 2))\"))\n",
    "if opcao == 1:\n",
    "    m = float(\"-inf\")\n",
    "    opcao_function = lambda a, b: a > b\n",
    "else:\n",
    "    m = float(\"inf\")\n",
    "    opcao_function = lambda a, b: a < b\n",
    "\n",
    "while True:\n",
    "    x = int(input())\n",
    "    if x== 0: \n",
    "        break\n",
    "    if opcao_function(x, m):\n",
    "        m = x\n",
    "print(m)\n",
    "\n",
    "    \n"
   ]
  },
  {
   "cell_type": "code",
   "execution_count": null,
   "id": "7c3409ec-55bb-48be-9e94-1a8af05e6b3e",
   "metadata": {},
   "outputs": [],
   "source": []
  }
 ],
 "metadata": {
  "kernelspec": {
   "display_name": "Python 3 (ipykernel)",
   "language": "python",
   "name": "python3"
  },
  "language_info": {
   "codemirror_mode": {
    "name": "ipython",
    "version": 3
   },
   "file_extension": ".py",
   "mimetype": "text/x-python",
   "name": "python",
   "nbconvert_exporter": "python",
   "pygments_lexer": "ipython3",
   "version": "3.12.4"
  }
 },
 "nbformat": 4,
 "nbformat_minor": 5
}
