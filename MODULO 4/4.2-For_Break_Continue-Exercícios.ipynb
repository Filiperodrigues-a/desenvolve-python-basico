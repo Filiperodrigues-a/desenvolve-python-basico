{
 "cells": [
  {
   "cell_type": "markdown",
   "id": "29e89030",
   "metadata": {},
   "source": [
    "# Módulo 4 - Repetições\n",
    "\n",
    "## Aulas 4.2 - Comando ```for``` e 4.3 Break e Continue"
   ]
  },
  {
   "cell_type": "markdown",
   "id": "a45b42df",
   "metadata": {},
   "source": [
    "### Q1.\n",
    "\n",
    "Crie um programa em Python que utilize o comando for para imprimir os números de 10 a 1, em ordem decrescente."
   ]
  },
  {
   "cell_type": "code",
   "execution_count": 5,
   "id": "55a75b3d",
   "metadata": {},
   "outputs": [
    {
     "name": "stdout",
     "output_type": "stream",
     "text": [
      "10\n",
      "9\n",
      "8\n",
      "7\n",
      "6\n",
      "5\n",
      "4\n",
      "3\n",
      "2\n",
      "1\n"
     ]
    }
   ],
   "source": [
    "## Escreva e execute seu código aqui\n",
    "for i in range(10,0,-1):\n",
    "    print(i)"
   ]
  },
  {
   "cell_type": "markdown",
   "id": "94b47c36",
   "metadata": {},
   "source": [
    "### Q2.\n",
    "\n",
    "Dado um número inteiro positivo informado pelo usuário, crie um programa em Python que utilize o comando for para calcular e exibir a soma dos números de 1 até o número informado. Ou seja, $1 + 2 + 3 + ... + n$\n",
    "\n",
    "Exemplo de interação:\n",
    "```\n",
    "Digite um número: 5\n",
    "A soma dos números de 1 a 5 é 15\n",
    "```\n"
   ]
  },
  {
   "cell_type": "code",
   "execution_count": 19,
   "id": "45b71596",
   "metadata": {},
   "outputs": [
    {
     "name": "stdin",
     "output_type": "stream",
     "text": [
      "Informe um número inteiro e positivo: 5\n"
     ]
    },
    {
     "name": "stdout",
     "output_type": "stream",
     "text": [
      "15\n"
     ]
    }
   ],
   "source": [
    "## Escreva e execute seu código aqui\n",
    "n = int(input(\"Informe um número inteiro e positivo:\"))\n",
    "soma = 0\n",
    "for n in range(1,n+1):\n",
    "    soma += n\n",
    "print(soma)"
   ]
  },
  {
   "cell_type": "markdown",
   "id": "0411d170",
   "metadata": {},
   "source": [
    "### Q3.\n",
    "\n",
    "Escreva um programa que lê 10 valores inteiros positivos do usuário e ao final imprime a média dos valores digitados com duas casas decimais.\n",
    "\n",
    "```\n",
    "Digite 10 números positivos:\n",
    "3\n",
    "2\n",
    "12\n",
    "14\n",
    "20\n",
    "42\n",
    "19\n",
    "0\n",
    "8\n",
    "1\n",
    "A média dos valores digitados é 12.10\n",
    "```"
   ]
  },
  {
   "cell_type": "code",
   "execution_count": null,
   "id": "3f72f358",
   "metadata": {},
   "outputs": [],
   "source": [
    "## Escreva e execute seu código aqui\n",
    "soma = 0\n",
    "for i in range (0,10):\n",
    "    n = int(input(\"Informe 10 valores inteiros e positivos e no final saberemos a média desses valores:\"))\n",
    "    soma += n\n",
    "resultado = soma / 10\n",
    "print(f\"A média é: {resultado:,.2f}\")"
   ]
  },
  {
   "cell_type": "markdown",
   "id": "d62e27ff",
   "metadata": {},
   "source": [
    "### Q4.\n",
    "\n",
    "Você vai criar um sistema que registra os resultados dos jogos do Atlético MG ao longo de um campeonato. Seu sistema vai receber os resultados de todos os jogos do Galo, e deve calcular a pontuação do time sabendo que vitórias valem 3 pontos, empates 1 ponto e derrotas 0 pontos.\n",
    "\n",
    "Entrada: <br>\n",
    "A primeira linha de entrada é um inteiro N com a quantidade jogos do galo. Para cada jogo você deve ler 2 inteiros, o primeiro com a quantidade de gols do galo e o segundo com a quantidade de gols do time oponente. \n",
    "\n",
    "Saída: <br>\n",
    "Apresente a soma de vitórias, empates e derrotas do galo, junto com o cálculo da pontuação total.\n",
    "\n",
    "Ex:\n",
    "```\n",
    "Entrada:\n",
    "4\n",
    "2\n",
    "0\n",
    "1\n",
    "1\n",
    "0\n",
    "3\n",
    "1\n",
    "0\n",
    "\n",
    "Saída:\n",
    "Vitórias: 2\n",
    "Empates: 1\n",
    "Derrotas: 1\n",
    "Pontuação: 7\n",
    "\n",
    "```\n",
    "\n",
    "\n"
   ]
  },
  {
   "cell_type": "code",
   "execution_count": 2,
   "id": "d3fdfc2a",
   "metadata": {},
   "outputs": [
    {
     "name": "stdin",
     "output_type": "stream",
     "text": [
      "Informe o número de jogos na temporada: 2\n",
      "Gols do galo: 2\n",
      "Gols do adversário: 1\n",
      "Gols do galo: 0\n",
      "Gols do adversário: 0\n"
     ]
    },
    {
     "name": "stdout",
     "output_type": "stream",
     "text": [
      "O galo teve 1 vitórias, 1 empates, 0 derrotas e pontou 4 pontos em 2 jogo(s).\n"
     ]
    }
   ],
   "source": [
    "## Escreva e execute seu código aqui\n",
    "n = int(input(\"Informe o número de jogos na temporada:\"))\n",
    "numero_jogos = n\n",
    "vitoria_galo = 0\n",
    "derrota_galo = 0\n",
    "empate = 0\n",
    "while n > 0:\n",
    "    n -= 1\n",
    "    \n",
    "    gols_galo = int(input(\"Gols do galo:\"))\n",
    "    gols_adversario = int(input(\"Gols do adversário:\"))\n",
    "\n",
    "    if gols_galo > gols_adversario:\n",
    "        vitoria_galo += 1\n",
    "    if gols_adversario > gols_galo:\n",
    "        derrota_galo += 1\n",
    "    if gols_adversario == gols_galo:\n",
    "        empate += 1\n",
    "    \n",
    "print(f\"O galo teve {vitoria_galo} vitórias, {empate} empates, {derrota_galo} derrotas e pontou {(vitoria_galo * 3) + (empate)} pontos em {numero_jogos} jogo(s).\")\n",
    "\n",
    "\n"
   ]
  },
  {
   "cell_type": "markdown",
   "id": "fc98604d",
   "metadata": {},
   "source": [
    "### Q5.\n",
    "\n",
    "Faça um programa que lê dois inteiros N e M, e imprime na tela um campo de batalha naval. O tabuleiro deve possuir N linhas e M colunas. A primeira linha é composta por um espaço em branco e o cabeçalho das colunas, ou seja, valores de 1 a M. As N linhas seguintes iniciam com o cabeçalho da linha, ou seja, seu número, seguido de M caracteres \"/\" (barra) indicando uma possível posição jogável. \n",
    "\n",
    "```\n",
    "Entrada:\n",
    "5\n",
    "4\n",
    "\n",
    "Saída:\n",
    "  1 2 3 4 \n",
    "1 / / / / \n",
    "2 / / / / \n",
    "3 / / / / \n",
    "4 / / / / \n",
    "5 / / / / \n",
    "```\n",
    "\n",
    "Para esse exercício, precisamos lembrar que o comando print implicitamente adiciona uma quebra de linha ao final da impressão. Podemos interferir no final da impressão adicionando mais uma entrada ao print. No exemplo, finalizamos cada linha com um espaço em branco:\n",
    "```python\n",
    "print(\"Texto qualquer\", end = \" \")\n",
    "```"
   ]
  },
  {
   "cell_type": "code",
   "execution_count": 3,
   "id": "a60ef197",
   "metadata": {},
   "outputs": [
    {
     "name": "stdin",
     "output_type": "stream",
     "text": [
      "Informe o valor de N: 3\n",
      "Informe o valor de M: 4\n"
     ]
    },
    {
     "name": "stdout",
     "output_type": "stream",
     "text": [
      "  1234\n",
      "1 ////\n",
      "2 ////\n",
      "3 ////\n"
     ]
    }
   ],
   "source": [
    "## Escreva e execute seu código aqui\n",
    "n_linhas = int(input(\"Informe o valor de N:\"))\n",
    "m_colunas = int(input(\"Informe o valor de M:\"))\n",
    "\n",
    "print(\" \", end=\" \")\n",
    "for i in range(1, m_colunas +1):\n",
    "    print(f\"{i}\", end=\"\")\n",
    "print()\n",
    "for i in range(1, n_linhas +1):\n",
    "    print(f\"{i}\", end=\" \")\n",
    "    print(\"/\"*m_colunas)\n",
    "    "
   ]
  },
  {
   "cell_type": "markdown",
   "id": "4654dc0b",
   "metadata": {},
   "source": [
    "---\n",
    "## Break e Continue"
   ]
  },
  {
   "cell_type": "markdown",
   "id": "24fe9d85",
   "metadata": {},
   "source": [
    "### Q6.\n",
    "\n",
    "Escreva um programa que lê uma quantidade indefinida de valores e informa o maior e o menor valor digitados. A leitura é encerrada quando o usuário digitar o valor 0 (zero).\n",
    "\n",
    "```\n",
    "Entrada:\n",
    "12\n",
    "-1\n",
    "29\n",
    "11\n",
    "-5\n",
    "0\n",
    "\n",
    "Saída:\n",
    "Maior: 29\n",
    "Menor: -5\n",
    "```"
   ]
  },
  {
   "cell_type": "code",
   "execution_count": 1,
   "id": "ee1c466a",
   "metadata": {},
   "outputs": [
    {
     "name": "stdin",
     "output_type": "stream",
     "text": [
      "Informe os valores e digite 0 para encerrar 1\n",
      "Informe os valores e digite 0 para encerrar 2\n",
      "Informe os valores e digite 0 para encerrar 0\n"
     ]
    },
    {
     "name": "stdout",
     "output_type": "stream",
     "text": [
      "o maior valor é 2 e o menor valor é 1\n"
     ]
    }
   ],
   "source": [
    "## Escreva e execute seu código aqui\n",
    "maior = float('-inf')\n",
    "menor = float('inf')\n",
    "\n",
    "while True:\n",
    "    n = int(input(\"Informe os valores e digite 0 para encerrar\"))\n",
    "    if n == 0:\n",
    "        break\n",
    "    if n > maior:\n",
    "        maior = n\n",
    "    if n < menor:\n",
    "        menor = n\n",
    "print(f\"o maior valor é {maior} e o menor valor é {menor}\")"
   ]
  },
  {
   "cell_type": "markdown",
   "id": "30d486f7",
   "metadata": {},
   "source": [
    "### Q7.\n",
    "\n",
    "Escreva um programa que lê uma quantidade indefinida de valores e informa o **produto** dos valores positivos digitados. A leitura é encerrada quando o usuário digitar o valor 0 (zero).\n",
    "\n",
    "```\n",
    "Entrada:\n",
    "2\n",
    "-1\n",
    "1\n",
    "3\n",
    "-5\n",
    "0\n",
    "\n",
    "Saída:\n",
    "Produto: 6\n",
    "```"
   ]
  },
  {
   "cell_type": "code",
   "execution_count": 4,
   "id": "2f1ac324",
   "metadata": {},
   "outputs": [
    {
     "name": "stdin",
     "output_type": "stream",
     "text": [
      "Informe os valores e digite 0 para encerrar: 2\n",
      "Informe os valores e digite 0 para encerrar: -1\n",
      "Informe os valores e digite 0 para encerrar: 1\n",
      "Informe os valores e digite 0 para encerrar: 3\n",
      "Informe os valores e digite 0 para encerrar: -5\n",
      "Informe os valores e digite 0 para encerrar: 0\n"
     ]
    },
    {
     "name": "stdout",
     "output_type": "stream",
     "text": [
      "O produto dos números positivos é  6\n"
     ]
    }
   ],
   "source": [
    "## Escreva e execute seu código aqui\n",
    "produto = 1\n",
    "\n",
    "while True:\n",
    "    n = int(input(\"Informe os valores e digite 0 para encerrar:\"))\n",
    "    if n == 0:\n",
    "        break\n",
    "    if n < 0:\n",
    "        continue\n",
    "    if n > 0:\n",
    "        produto = produto * n\n",
    "print(f\"O produto dos números positivos é  {produto}\")\n"
   ]
  },
  {
   "cell_type": "markdown",
   "id": "e932f3cf",
   "metadata": {},
   "source": [
    "### Q8.\n",
    "\n",
    "Vamos fazer uma calculadora que aceita expressões aritméticas de qualquer tamanho até que o usuário digite a palavra \"Fim\". Sua calculadora executa apenas as operações \"+\", \"-\".\n",
    "\n",
    "```\n",
    "Entrada:\n",
    "5\n",
    "+\n",
    "8\n",
    "-\n",
    "3\n",
    "+\n",
    "2\n",
    "Fim\n",
    "\n",
    "Saída:\n",
    "12\n",
    "```"
   ]
  },
  {
   "cell_type": "code",
   "execution_count": 4,
   "id": "e835d870",
   "metadata": {},
   "outputs": [
    {
     "name": "stdin",
     "output_type": "stream",
     "text": [
      "Informe todos os números da operação e digite 'fim' para terminar:  1\n",
      "Informe o operador (+ ou -): +\n",
      "Informe todos os números da operação e digite 'fim' para terminar:  1\n",
      "Informe o operador (+ ou -): +\n",
      "Informe todos os números da operação e digite 'fim' para terminar:  1\n",
      "Informe o operador (+ ou -): fim\n"
     ]
    },
    {
     "name": "stdout",
     "output_type": "stream",
     "text": [
      "O resultado da operação é: 3\n"
     ]
    }
   ],
   "source": [
    "## Escreva e execute seu código aqui\n",
    "soma = None\n",
    "\n",
    "while True:\n",
    "    n = int(input(\"Informe todos os números da operação e digite 'fim' para terminar: \"))\n",
    "    m = str(input(\"Informe o operador (+ ou -):\"))\n",
    "\n",
    "    if soma == None:\n",
    "        soma = n\n",
    "    if n == 'fim':\n",
    "                  break\n",
    "    if m == 'fim':\n",
    "                  break\n",
    "    if m == '-':\n",
    "         soma -= n\n",
    "    elif m == '+':\n",
    "         soma += n\n",
    "    else:\n",
    "        print(\"operador inválido\")\n",
    "\n",
    "print(f\"O resultado da operação é: {soma}\")\n",
    "\n",
    "    \n",
    "    "
   ]
  },
  {
   "cell_type": "code",
   "execution_count": null,
   "id": "238b5d53-dc97-46e5-9a82-9df716e4d60d",
   "metadata": {},
   "outputs": [],
   "source": []
  }
 ],
 "metadata": {
  "kernelspec": {
   "display_name": "Python 3 (ipykernel)",
   "language": "python",
   "name": "python3"
  },
  "language_info": {
   "codemirror_mode": {
    "name": "ipython",
    "version": 3
   },
   "file_extension": ".py",
   "mimetype": "text/x-python",
   "name": "python",
   "nbconvert_exporter": "python",
   "pygments_lexer": "ipython3",
   "version": "3.12.4"
  }
 },
 "nbformat": 4,
 "nbformat_minor": 5
}
